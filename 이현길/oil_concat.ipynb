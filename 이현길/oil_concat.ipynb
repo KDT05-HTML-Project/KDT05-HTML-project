{
 "cells": [
  {
   "cell_type": "code",
   "execution_count": 20,
   "metadata": {},
   "outputs": [],
   "source": [
    "import numpy as np\n",
    "import pandas as pd\n",
    "import os\n"
   ]
  },
  {
   "cell_type": "code",
   "execution_count": 21,
   "metadata": {},
   "outputs": [],
   "source": [
    "file_dir = \"../DATA/oil_prices/\"\n",
    "file_list = os.listdir(file_dir)\n"
   ]
  },
  {
   "cell_type": "code",
   "execution_count": 22,
   "metadata": {},
   "outputs": [
    {
     "name": "stdout",
     "output_type": "stream",
     "text": [
      "<class 'pandas.core.frame.DataFrame'>\n",
      "RangeIndex: 7291 entries, 0 to 7290\n",
      "Data columns (total 5 columns):\n",
      " #   Column  Non-Null Count  Dtype         \n",
      "---  ------  --------------  -----         \n",
      " 0   date    7291 non-null   datetime64[ns]\n",
      " 1   Dubai   7122 non-null   float64       \n",
      " 2   Oman    7121 non-null   float64       \n",
      " 3   Brent   6739 non-null   float64       \n",
      " 4   WTI     6598 non-null   float64       \n",
      "dtypes: datetime64[ns](1), float64(4)\n",
      "memory usage: 284.9 KB\n"
     ]
    }
   ],
   "source": [
    "oilDF = pd.DataFrame()\n",
    "for file in file_list:\n",
    "    df = pd.read_csv(file_dir + file)\n",
    "    df.drop([\"유종\"], axis=1, inplace=True)\n",
    "    df.replace(\"-\", np.nan, inplace=True)\n",
    "    oilDF = pd.concat([oilDF, df], join=\"outer\", axis=0).reset_index(drop=True)\n",
    "oilDF.columns\n",
    "types = [\"datetime64[ns]\", \"float64\", \"float64\", \"float64\", \"float64\"]\n",
    "oilDF = oilDF.astype(dict(zip(oilDF.columns, types))).rename(\n",
    "    columns={oilDF.columns[0]: \"date\"}\n",
    ")\n",
    "oilDF.info()\n"
   ]
  },
  {
   "cell_type": "code",
   "execution_count": 23,
   "metadata": {},
   "outputs": [
    {
     "name": "stdout",
     "output_type": "stream",
     "text": [
      "<class 'pandas.core.frame.DataFrame'>\n",
      "RangeIndex: 7291 entries, 0 to 7290\n",
      "Data columns (total 6 columns):\n",
      " #   Column  Non-Null Count  Dtype         \n",
      "---  ------  --------------  -----         \n",
      " 0   date    7291 non-null   datetime64[ns]\n",
      " 1   Dubai   7122 non-null   float64       \n",
      " 2   Oman    7121 non-null   float64       \n",
      " 3   Brent   6739 non-null   float64       \n",
      " 4   WTI     6598 non-null   float64       \n",
      " 5   price   7291 non-null   float64       \n",
      "dtypes: datetime64[ns](1), float64(5)\n",
      "memory usage: 341.9 KB\n"
     ]
    }
   ],
   "source": [
    "oilDF[\"price\"] = oilDF.mean(axis=1, skipna=True, numeric_only=True)\n",
    "oilDF.info()\n"
   ]
  },
  {
   "cell_type": "code",
   "execution_count": 24,
   "metadata": {},
   "outputs": [
    {
     "name": "stdout",
     "output_type": "stream",
     "text": [
      "<class 'pandas.core.frame.DataFrame'>\n",
      "RangeIndex: 7291 entries, 0 to 7290\n",
      "Data columns (total 2 columns):\n",
      " #   Column  Non-Null Count  Dtype         \n",
      "---  ------  --------------  -----         \n",
      " 0   date    7291 non-null   datetime64[ns]\n",
      " 1   price   7291 non-null   float64       \n",
      "dtypes: datetime64[ns](1), float64(1)\n",
      "memory usage: 114.0 KB\n"
     ]
    }
   ],
   "source": [
    "oil_priceDF = oilDF[[\"date\", \"price\"]]\n",
    "oil_priceDF.info()\n"
   ]
  },
  {
   "cell_type": "code",
   "execution_count": 25,
   "metadata": {},
   "outputs": [],
   "source": [
    "start_date = oil_priceDF[\"date\"].min()\n",
    "end_date = oil_priceDF[\"date\"].max()\n",
    "full_date_range = pd.date_range(start=start_date, end=end_date)\n"
   ]
  },
  {
   "cell_type": "code",
   "execution_count": 26,
   "metadata": {},
   "outputs": [
    {
     "name": "stdout",
     "output_type": "stream",
     "text": [
      "<class 'pandas.core.frame.DataFrame'>\n",
      "RangeIndex: 10329 entries, 0 to 10328\n",
      "Data columns (total 2 columns):\n",
      " #   Column  Non-Null Count  Dtype         \n",
      "---  ------  --------------  -----         \n",
      " 0   date    10329 non-null  datetime64[ns]\n",
      " 1   price   7291 non-null   float64       \n",
      "dtypes: datetime64[ns](1), float64(1)\n",
      "memory usage: 161.5 KB\n"
     ]
    }
   ],
   "source": [
    "oil_price_overDF = (\n",
    "    oil_priceDF.set_index(\"date\")\n",
    "    .reindex(full_date_range)\n",
    "    .reset_index()\n",
    "    .rename(columns={\"index\": \"date\"})\n",
    ")\n",
    "oil_price_overDF.info()\n"
   ]
  },
  {
   "cell_type": "code",
   "execution_count": 27,
   "metadata": {},
   "outputs": [
    {
     "name": "stdout",
     "output_type": "stream",
     "text": [
      "<class 'pandas.core.frame.DataFrame'>\n",
      "RangeIndex: 10329 entries, 0 to 10328\n",
      "Data columns (total 2 columns):\n",
      " #   Column  Non-Null Count  Dtype         \n",
      "---  ------  --------------  -----         \n",
      " 0   date    10329 non-null  datetime64[ns]\n",
      " 1   price   10329 non-null  float64       \n",
      "dtypes: datetime64[ns](1), float64(1)\n",
      "memory usage: 161.5 KB\n"
     ]
    }
   ],
   "source": [
    "oil_price_overDF = oil_price_overDF.interpolate()\n",
    "oil_price_overDF.info()\n"
   ]
  },
  {
   "cell_type": "code",
   "execution_count": 28,
   "metadata": {},
   "outputs": [
    {
     "data": {
      "text/html": [
       "<div>\n",
       "<style scoped>\n",
       "    .dataframe tbody tr th:only-of-type {\n",
       "        vertical-align: middle;\n",
       "    }\n",
       "\n",
       "    .dataframe tbody tr th {\n",
       "        vertical-align: top;\n",
       "    }\n",
       "\n",
       "    .dataframe thead th {\n",
       "        text-align: right;\n",
       "    }\n",
       "</style>\n",
       "<table border=\"1\" class=\"dataframe\">\n",
       "  <thead>\n",
       "    <tr style=\"text-align: right;\">\n",
       "      <th></th>\n",
       "      <th>date</th>\n",
       "      <th>price</th>\n",
       "    </tr>\n",
       "  </thead>\n",
       "  <tbody>\n",
       "    <tr>\n",
       "      <th>0</th>\n",
       "      <td>1996-01-02</td>\n",
       "      <td>17.640</td>\n",
       "    </tr>\n",
       "    <tr>\n",
       "      <th>1</th>\n",
       "      <td>1996-01-03</td>\n",
       "      <td>17.650</td>\n",
       "    </tr>\n",
       "    <tr>\n",
       "      <th>2</th>\n",
       "      <td>1996-01-04</td>\n",
       "      <td>17.845</td>\n",
       "    </tr>\n",
       "    <tr>\n",
       "      <th>3</th>\n",
       "      <td>1996-01-05</td>\n",
       "      <td>18.120</td>\n",
       "    </tr>\n",
       "    <tr>\n",
       "      <th>4</th>\n",
       "      <td>1996-01-06</td>\n",
       "      <td>18.165</td>\n",
       "    </tr>\n",
       "    <tr>\n",
       "      <th>...</th>\n",
       "      <td>...</td>\n",
       "      <td>...</td>\n",
       "    </tr>\n",
       "    <tr>\n",
       "      <th>10324</th>\n",
       "      <td>2024-04-08</td>\n",
       "      <td>89.218</td>\n",
       "    </tr>\n",
       "    <tr>\n",
       "      <th>10325</th>\n",
       "      <td>2024-04-09</td>\n",
       "      <td>89.032</td>\n",
       "    </tr>\n",
       "    <tr>\n",
       "      <th>10326</th>\n",
       "      <td>2024-04-10</td>\n",
       "      <td>88.345</td>\n",
       "    </tr>\n",
       "    <tr>\n",
       "      <th>10327</th>\n",
       "      <td>2024-04-11</td>\n",
       "      <td>89.130</td>\n",
       "    </tr>\n",
       "    <tr>\n",
       "      <th>10328</th>\n",
       "      <td>2024-04-12</td>\n",
       "      <td>88.863</td>\n",
       "    </tr>\n",
       "  </tbody>\n",
       "</table>\n",
       "<p>10329 rows × 2 columns</p>\n",
       "</div>"
      ],
      "text/plain": [
       "            date   price\n",
       "0     1996-01-02  17.640\n",
       "1     1996-01-03  17.650\n",
       "2     1996-01-04  17.845\n",
       "3     1996-01-05  18.120\n",
       "4     1996-01-06  18.165\n",
       "...          ...     ...\n",
       "10324 2024-04-08  89.218\n",
       "10325 2024-04-09  89.032\n",
       "10326 2024-04-10  88.345\n",
       "10327 2024-04-11  89.130\n",
       "10328 2024-04-12  88.863\n",
       "\n",
       "[10329 rows x 2 columns]"
      ]
     },
     "execution_count": 28,
     "metadata": {},
     "output_type": "execute_result"
    }
   ],
   "source": [
    "oil_price_overDF[\"price\"] = oil_price_overDF[\"price\"].round(3)\n",
    "oil_price_overDF\n"
   ]
  },
  {
   "cell_type": "code",
   "execution_count": 29,
   "metadata": {},
   "outputs": [
    {
     "data": {
      "text/plain": [
       "[<matplotlib.lines.Line2D at 0x2692d2cb3d0>]"
      ]
     },
     "execution_count": 29,
     "metadata": {},
     "output_type": "execute_result"
    },
    {
     "data": {
      "image/png": "[encoded data removed]",
      "text/plain": [
       "<Figure size 640x480 with 1 Axes>"
      ]
     },
     "metadata": {},
     "output_type": "display_data"
    }
   ],
   "source": [
    "import matplotlib.pyplot as plt\n",
    "\n",
    "plt.plot(oil_price_overDF[\"price\"])\n"
   ]
  },
  {
   "cell_type": "code",
   "execution_count": 30,
   "metadata": {},
   "outputs": [],
   "source": [
    "oil_price_overDF.to_csv(\"../DATA/oil_price.csv\", index=False)\n"
   ]
  },
  {
   "cell_type": "code",
   "execution_count": null,
   "metadata": {},
   "outputs": [],
   "source": []
  }
 ],
 "metadata": {
  "kernelspec": {
   "display_name": "Torch_NLP38",
   "language": "python",
   "name": "python3"
  },
  "language_info": {
   "codemirror_mode": {
    "name": "ipython",
    "version": 3
   },
   "file_extension": ".py",
   "mimetype": "text/x-python",
   "name": "python",
   "nbconvert_exporter": "python",
   "pygments_lexer": "ipython3",
   "version": "3.8.19"
  }
 },
 "nbformat": 4,
 "nbformat_minor": 2
}
