{
 "cells": [
  {
   "cell_type": "markdown",
   "metadata": {},
   "source": [
    "### 데이터 가져오기"
   ]
  },
  {
   "cell_type": "code",
   "execution_count": 5,
   "metadata": {},
   "outputs": [
    {
     "name": "stdout",
     "output_type": "stream",
     "text": [
      "       거래일자  시간  연료원  설비용량(MW)  전력거래량(MWh)\n",
      "0  20230101   1  원자력     24650       19561\n",
      "1  20230101   2  원자력     24650       19561\n",
      "2  20230101   3  원자력     24650       19562\n",
      "3  20230101   4  원자력     24650       19560\n",
      "4  20230101   5  원자력     24650       19559\n"
     ]
    }
   ],
   "source": [
    "file = '../DATA/2023년 연료원별 시간대별 설비용량 및 전력거래량 (1).xlsx'\n",
    "import pandas as pd\n",
    "\n",
    "df = pd.read_excel(file, sheet_name='Sheet1', skiprows=5)\n",
    "print(df.head())"
   ]
  },
  {
   "cell_type": "code",
   "execution_count": null,
   "metadata": {},
   "outputs": [],
   "source": [
    "# %pip install openpyxl"
   ]
  },
  {
   "cell_type": "code",
   "execution_count": 6,
   "metadata": {},
   "outputs": [
    {
     "name": "stdout",
     "output_type": "stream",
     "text": [
      "<class 'pandas.core.frame.DataFrame'>\n",
      "RangeIndex: 179208 entries, 0 to 179207\n",
      "Data columns (total 5 columns):\n",
      " #   Column      Non-Null Count   Dtype \n",
      "---  ------      --------------   ----- \n",
      " 0   거래일자        179208 non-null  int64 \n",
      " 1   시간          179208 non-null  int64 \n",
      " 2   연료원         179208 non-null  object\n",
      " 3   설비용량(MW)    179208 non-null  int64 \n",
      " 4   전력거래량(MWh)  179208 non-null  int64 \n",
      "dtypes: int64(4), object(1)\n",
      "memory usage: 6.8+ MB\n"
     ]
    }
   ],
   "source": [
    "df.info()"
   ]
  },
  {
   "cell_type": "markdown",
   "metadata": {},
   "source": [
    "### 거래일자 + 시간"
   ]
  },
  {
   "cell_type": "code",
   "execution_count": 8,
   "metadata": {},
   "outputs": [
    {
     "name": "stdout",
     "output_type": "stream",
     "text": [
      "       거래일자 시간  연료원  설비용량(MW)  전력거래량(MWh)        날짜시간\n",
      "0  20230101  1  원자력     24650       19561  2023010101\n",
      "1  20230101  2  원자력     24650       19561  2023010102\n",
      "2  20230101  3  원자력     24650       19562  2023010103\n",
      "3  20230101  4  원자력     24650       19560  2023010104\n",
      "4  20230101  5  원자력     24650       19559  2023010105\n"
     ]
    }
   ],
   "source": [
    "# 거래일자 열과 시간 열을 합치기 \n",
    "# - 시간 단위가 int, 합치면 202301012, 2023010112 이런 식으로 자릿수가 달라짐\n",
    "# - 시간 단위를 2자리로 맞추기 위해 zfill() 함수 사용\n",
    "df['거래일자'] = df['거래일자'].astype(str)\n",
    "df['시간'] = df['시간'].astype(str)\n",
    "df['날짜시간'] = df['거래일자'] + df['시간'].str.zfill(2)\n",
    "print(df.head())"
   ]
  },
  {
   "cell_type": "code",
   "execution_count": 11,
   "metadata": {},
   "outputs": [
    {
     "name": "stdout",
     "output_type": "stream",
     "text": [
      "                거래일자 시간  연료원  설비용량(MW)  전력거래량(MWh)\n",
      "날짜시간                                              \n",
      "2023010101  20230101  1  원자력     24650       19561\n",
      "2023010102  20230101  2  원자력     24650       19561\n",
      "2023010103  20230101  3  원자력     24650       19562\n",
      "2023010104  20230101  4  원자력     24650       19560\n",
      "2023010105  20230101  5  원자력     24650       19559\n"
     ]
    }
   ],
   "source": [
    "# 날짜 시간 열을 인덱스로 설정\n",
    "df.set_index('날짜시간', inplace=True)\n",
    "print(df.head())"
   ]
  },
  {
   "cell_type": "code",
   "execution_count": 17,
   "metadata": {},
   "outputs": [
    {
     "data": {
      "text/html": [
       "<div>\n",
       "<style scoped>\n",
       "    .dataframe tbody tr th:only-of-type {\n",
       "        vertical-align: middle;\n",
       "    }\n",
       "\n",
       "    .dataframe tbody tr th {\n",
       "        vertical-align: top;\n",
       "    }\n",
       "\n",
       "    .dataframe thead th {\n",
       "        text-align: right;\n",
       "    }\n",
       "</style>\n",
       "<table border=\"1\" class=\"dataframe\">\n",
       "  <thead>\n",
       "    <tr style=\"text-align: right;\">\n",
       "      <th></th>\n",
       "      <th>설비용량(MW)</th>\n",
       "      <th>전력거래량(MWh)</th>\n",
       "    </tr>\n",
       "    <tr>\n",
       "      <th>날짜시간</th>\n",
       "      <th></th>\n",
       "      <th></th>\n",
       "    </tr>\n",
       "  </thead>\n",
       "  <tbody>\n",
       "    <tr>\n",
       "      <th>2023010101</th>\n",
       "      <td>24650</td>\n",
       "      <td>19561</td>\n",
       "    </tr>\n",
       "    <tr>\n",
       "      <th>2023010102</th>\n",
       "      <td>24650</td>\n",
       "      <td>19561</td>\n",
       "    </tr>\n",
       "    <tr>\n",
       "      <th>2023010103</th>\n",
       "      <td>24650</td>\n",
       "      <td>19562</td>\n",
       "    </tr>\n",
       "    <tr>\n",
       "      <th>2023010104</th>\n",
       "      <td>24650</td>\n",
       "      <td>19560</td>\n",
       "    </tr>\n",
       "    <tr>\n",
       "      <th>2023010105</th>\n",
       "      <td>24650</td>\n",
       "      <td>19559</td>\n",
       "    </tr>\n",
       "  </tbody>\n",
       "</table>\n",
       "</div>"
      ],
      "text/plain": [
       "            설비용량(MW)  전력거래량(MWh)\n",
       "날짜시간                            \n",
       "2023010101     24650       19561\n",
       "2023010102     24650       19561\n",
       "2023010103     24650       19562\n",
       "2023010104     24650       19560\n",
       "2023010105     24650       19559"
      ]
     },
     "execution_count": 17,
     "metadata": {},
     "output_type": "execute_result"
    }
   ],
   "source": [
    "# 연료원별 구분, 연료원 열 제외\n",
    "nuclear_df = df[df['연료원'] == '원자력'].drop(['연료원', '거래일자', '시간'], axis=1)\n",
    "nuclear_df.head()"
   ]
  },
  {
   "cell_type": "code",
   "execution_count": 19,
   "metadata": {},
   "outputs": [
    {
     "data": {
      "text/plain": [
       "array(['원자력', '유연탄', '무연탄', '바이오가스', '부생가스', '수력', '양수', '매립가스', '중유',\n",
       "       '태양광', '폐기물', '풍력', 'LNG', '연료전지', '경유', '해양에너지', '바이오매스', 'IGCC',\n",
       "       '바이오중유', '기타', '바이오SRF'], dtype=object)"
      ]
     },
     "execution_count": 19,
     "metadata": {},
     "output_type": "execute_result"
    }
   ],
   "source": [
    "# 모든 연료원 확인\n",
    "df['연료원'].unique()"
   ]
  },
  {
   "cell_type": "markdown",
   "metadata": {},
   "source": [
    "<hr> \n",
    "\n",
    "### 자료가 가격과 거리가 멀어 새로운 자료 찾음 \n",
    "\n",
    "- 전력거래 계통한계가격 가중평균 SMP.csv\n",
    "<hr>"
   ]
  },
  {
   "cell_type": "code",
   "execution_count": 53,
   "metadata": {},
   "outputs": [
    {
     "data": {
      "text/html": [
       "<div>\n",
       "<style scoped>\n",
       "    .dataframe tbody tr th:only-of-type {\n",
       "        vertical-align: middle;\n",
       "    }\n",
       "\n",
       "    .dataframe tbody tr th {\n",
       "        vertical-align: top;\n",
       "    }\n",
       "\n",
       "    .dataframe thead th {\n",
       "        text-align: right;\n",
       "    }\n",
       "</style>\n",
       "<table border=\"1\" class=\"dataframe\">\n",
       "  <thead>\n",
       "    <tr style=\"text-align: right;\">\n",
       "      <th></th>\n",
       "      <th>Unnamed: 0</th>\n",
       "      <th>육지</th>\n",
       "      <th>제주</th>\n",
       "      <th>통합</th>\n",
       "      <th>Unnamed: 4</th>\n",
       "    </tr>\n",
       "  </thead>\n",
       "  <tbody>\n",
       "    <tr>\n",
       "      <th>271</th>\n",
       "      <td>2001/08</td>\n",
       "      <td>0.0</td>\n",
       "      <td>0.0</td>\n",
       "      <td>42.293200</td>\n",
       "      <td>17.694454</td>\n",
       "    </tr>\n",
       "    <tr>\n",
       "      <th>272</th>\n",
       "      <td>2001/07</td>\n",
       "      <td>0.0</td>\n",
       "      <td>0.0</td>\n",
       "      <td>47.428339</td>\n",
       "      <td>18.058702</td>\n",
       "    </tr>\n",
       "    <tr>\n",
       "      <th>273</th>\n",
       "      <td>2001/06</td>\n",
       "      <td>0.0</td>\n",
       "      <td>0.0</td>\n",
       "      <td>51.247385</td>\n",
       "      <td>18.256079</td>\n",
       "    </tr>\n",
       "    <tr>\n",
       "      <th>274</th>\n",
       "      <td>2001/05</td>\n",
       "      <td>0.0</td>\n",
       "      <td>0.0</td>\n",
       "      <td>52.552364</td>\n",
       "      <td>18.597789</td>\n",
       "    </tr>\n",
       "    <tr>\n",
       "      <th>275</th>\n",
       "      <td>2001/04</td>\n",
       "      <td>0.0</td>\n",
       "      <td>0.0</td>\n",
       "      <td>50.705398</td>\n",
       "      <td>18.514828</td>\n",
       "    </tr>\n",
       "  </tbody>\n",
       "</table>\n",
       "</div>"
      ],
      "text/plain": [
       "    Unnamed: 0   육지   제주         통합  Unnamed: 4\n",
       "271    2001/08  0.0  0.0  42.293200   17.694454\n",
       "272    2001/07  0.0  0.0  47.428339   18.058702\n",
       "273    2001/06  0.0  0.0  51.247385   18.256079\n",
       "274    2001/05  0.0  0.0  52.552364   18.597789\n",
       "275    2001/04  0.0  0.0  50.705398   18.514828"
      ]
     },
     "execution_count": 53,
     "metadata": {},
     "output_type": "execute_result"
    }
   ],
   "source": [
    "import pandas as pd\n",
    "\n",
    "file = '../DATA/HOME_전력거래_계통한계가격_가중평균SMP.csv'\n",
    "\n",
    "df = pd.read_csv(file, encoding='cp949', skiprows=1)\n",
    "df.tail()"
   ]
  },
  {
   "cell_type": "code",
   "execution_count": 54,
   "metadata": {},
   "outputs": [
    {
     "name": "stdout",
     "output_type": "stream",
     "text": [
      "<class 'pandas.core.frame.DataFrame'>\n",
      "RangeIndex: 276 entries, 0 to 275\n",
      "Data columns (total 5 columns):\n",
      " #   Column      Non-Null Count  Dtype  \n",
      "---  ------      --------------  -----  \n",
      " 0   Unnamed: 0  276 non-null    object \n",
      " 1   육지          276 non-null    float64\n",
      " 2   제주          276 non-null    float64\n",
      " 3   통합          276 non-null    float64\n",
      " 4   Unnamed: 4  276 non-null    float64\n",
      "dtypes: float64(4), object(1)\n",
      "memory usage: 10.9+ KB\n"
     ]
    }
   ],
   "source": [
    "df.info()"
   ]
  },
  {
   "cell_type": "code",
   "execution_count": 55,
   "metadata": {},
   "outputs": [
    {
     "data": {
      "text/html": [
       "<div>\n",
       "<style scoped>\n",
       "    .dataframe tbody tr th:only-of-type {\n",
       "        vertical-align: middle;\n",
       "    }\n",
       "\n",
       "    .dataframe tbody tr th {\n",
       "        vertical-align: top;\n",
       "    }\n",
       "\n",
       "    .dataframe thead th {\n",
       "        text-align: right;\n",
       "    }\n",
       "</style>\n",
       "<table border=\"1\" class=\"dataframe\">\n",
       "  <thead>\n",
       "    <tr style=\"text-align: right;\">\n",
       "      <th></th>\n",
       "      <th>육지</th>\n",
       "      <th>제주</th>\n",
       "      <th>통합</th>\n",
       "      <th>Unnamed: 4</th>\n",
       "    </tr>\n",
       "    <tr>\n",
       "      <th>Unnamed: 0</th>\n",
       "      <th></th>\n",
       "      <th></th>\n",
       "      <th></th>\n",
       "      <th></th>\n",
       "    </tr>\n",
       "  </thead>\n",
       "  <tbody>\n",
       "    <tr>\n",
       "      <th>2024/03</th>\n",
       "      <td>134.40</td>\n",
       "      <td>140.61</td>\n",
       "      <td>134.47</td>\n",
       "      <td>0.0</td>\n",
       "    </tr>\n",
       "    <tr>\n",
       "      <th>2024/02</th>\n",
       "      <td>119.49</td>\n",
       "      <td>122.34</td>\n",
       "      <td>119.53</td>\n",
       "      <td>0.0</td>\n",
       "    </tr>\n",
       "    <tr>\n",
       "      <th>2024/01</th>\n",
       "      <td>137.91</td>\n",
       "      <td>150.67</td>\n",
       "      <td>138.06</td>\n",
       "      <td>0.0</td>\n",
       "    </tr>\n",
       "    <tr>\n",
       "      <th>2023/12</th>\n",
       "      <td>131.05</td>\n",
       "      <td>137.04</td>\n",
       "      <td>131.12</td>\n",
       "      <td>0.0</td>\n",
       "    </tr>\n",
       "    <tr>\n",
       "      <th>2023/11</th>\n",
       "      <td>120.82</td>\n",
       "      <td>123.37</td>\n",
       "      <td>120.85</td>\n",
       "      <td>0.0</td>\n",
       "    </tr>\n",
       "  </tbody>\n",
       "</table>\n",
       "</div>"
      ],
      "text/plain": [
       "                육지      제주      통합  Unnamed: 4\n",
       "Unnamed: 0                                    \n",
       "2024/03     134.40  140.61  134.47         0.0\n",
       "2024/02     119.49  122.34  119.53         0.0\n",
       "2024/01     137.91  150.67  138.06         0.0\n",
       "2023/12     131.05  137.04  131.12         0.0\n",
       "2023/11     120.82  123.37  120.85         0.0"
      ]
     },
     "execution_count": 55,
     "metadata": {},
     "output_type": "execute_result"
    }
   ],
   "source": [
    "# 첫 열을 인덱스로 설정, 육지, 제주, 통합을 시각화\n",
    "df.set_index('Unnamed: 0', inplace=True)\n",
    "df.head()"
   ]
  },
  {
   "cell_type": "code",
   "execution_count": 56,
   "metadata": {},
   "outputs": [
    {
     "data": {
      "text/html": [
       "<div>\n",
       "<style scoped>\n",
       "    .dataframe tbody tr th:only-of-type {\n",
       "        vertical-align: middle;\n",
       "    }\n",
       "\n",
       "    .dataframe tbody tr th {\n",
       "        vertical-align: top;\n",
       "    }\n",
       "\n",
       "    .dataframe thead th {\n",
       "        text-align: right;\n",
       "    }\n",
       "</style>\n",
       "<table border=\"1\" class=\"dataframe\">\n",
       "  <thead>\n",
       "    <tr style=\"text-align: right;\">\n",
       "      <th></th>\n",
       "      <th>육지</th>\n",
       "      <th>제주</th>\n",
       "      <th>통합</th>\n",
       "      <th>BLMP</th>\n",
       "    </tr>\n",
       "    <tr>\n",
       "      <th>Unnamed: 0</th>\n",
       "      <th></th>\n",
       "      <th></th>\n",
       "      <th></th>\n",
       "      <th></th>\n",
       "    </tr>\n",
       "  </thead>\n",
       "  <tbody>\n",
       "    <tr>\n",
       "      <th>2024/03</th>\n",
       "      <td>134.40</td>\n",
       "      <td>140.61</td>\n",
       "      <td>134.47</td>\n",
       "      <td>0.0</td>\n",
       "    </tr>\n",
       "    <tr>\n",
       "      <th>2024/02</th>\n",
       "      <td>119.49</td>\n",
       "      <td>122.34</td>\n",
       "      <td>119.53</td>\n",
       "      <td>0.0</td>\n",
       "    </tr>\n",
       "    <tr>\n",
       "      <th>2024/01</th>\n",
       "      <td>137.91</td>\n",
       "      <td>150.67</td>\n",
       "      <td>138.06</td>\n",
       "      <td>0.0</td>\n",
       "    </tr>\n",
       "    <tr>\n",
       "      <th>2023/12</th>\n",
       "      <td>131.05</td>\n",
       "      <td>137.04</td>\n",
       "      <td>131.12</td>\n",
       "      <td>0.0</td>\n",
       "    </tr>\n",
       "    <tr>\n",
       "      <th>2023/11</th>\n",
       "      <td>120.82</td>\n",
       "      <td>123.37</td>\n",
       "      <td>120.85</td>\n",
       "      <td>0.0</td>\n",
       "    </tr>\n",
       "  </tbody>\n",
       "</table>\n",
       "</div>"
      ],
      "text/plain": [
       "                육지      제주      통합  BLMP\n",
       "Unnamed: 0                              \n",
       "2024/03     134.40  140.61  134.47   0.0\n",
       "2024/02     119.49  122.34  119.53   0.0\n",
       "2024/01     137.91  150.67  138.06   0.0\n",
       "2023/12     131.05  137.04  131.12   0.0\n",
       "2023/11     120.82  123.37  120.85   0.0"
      ]
     },
     "execution_count": 56,
     "metadata": {},
     "output_type": "execute_result"
    }
   ],
   "source": [
    "# 넷 째 열 = BLMP\n",
    "df.columns = ['육지', '제주', '통합', 'BLMP']\n",
    "df.head()"
   ]
  },
  {
   "cell_type": "code",
   "execution_count": 57,
   "metadata": {},
   "outputs": [
    {
     "data": {
      "image/png": "[encoded data removed]",
      "text/plain": [
       "<Figure size 640x480 with 1 Axes>"
      ]
     },
     "metadata": {},
     "output_type": "display_data"
    }
   ],
   "source": [
    "# 시각화\n",
    "import matplotlib.pyplot as plt\n",
    "# 한글 폰트 설정\n",
    "plt.rc('font', family='Malgun Gothic')\n",
    "plt.rc('axes', unicode_minus=False)\n",
    "df.plot()\n",
    "# 좌우 반전\n",
    "plt.gca().invert_xaxis()\n",
    "plt.xlabel('날짜')\n",
    "plt.ylabel('가격 (원/kWh)')\n",
    "plt.title('전력거래 계통한계가격(SMP) 가중평균')\n",
    "plt.show()"
   ]
  },
  {
   "cell_type": "markdown",
   "metadata": {},
   "source": [
    "=> 계통가격은 육지보다 제주가 높고 2015년 감소했다가 21년도부터 다시 증가, 최근 감소하는 추세이다. 통합 가격은 육지와 거의 동일하므로 데이터가 온전한 통합 가격을 사용한다.  \n",
    "=> 설명할 땐 SMP는 유동적인 예측수요를 만족하는 한계 발전기의 발전 가격이고, 가중평균으로 해당 기간의 시세를 표현할 수 있다 판단한다."
   ]
  },
  {
   "cell_type": "code",
   "execution_count": 58,
   "metadata": {},
   "outputs": [
    {
     "data": {
      "image/png": "[encoded data removed]",
      "text/plain": [
       "<Figure size 640x480 with 1 Axes>"
      ]
     },
     "metadata": {},
     "output_type": "display_data"
    }
   ],
   "source": [
    "# 추가) 육지와 통합의 차이\n",
    "# 2010년 1월 1일부터 자료를 총합내기\n",
    "df['육지-통합'] = abs(df['육지'] - df['통합'])\n",
    "df['육지-통합'].plot()\n",
    "plt.gca().invert_xaxis()\n",
    "plt.xlabel('날짜')\n",
    "plt.ylabel('가격 (원/kWh)')\n",
    "plt.title('육지-통합 가격 차이')\n",
    "plt.show()"
   ]
  },
  {
   "cell_type": "markdown",
   "metadata": {},
   "source": [
    "### "
   ]
  },
  {
   "cell_type": "markdown",
   "metadata": {},
   "source": [
    "### 데이터 저장"
   ]
  },
  {
   "cell_type": "code",
   "execution_count": 59,
   "metadata": {},
   "outputs": [
    {
     "name": "stderr",
     "output_type": "stream",
     "text": [
      "C:\\Users\\wjs31\\AppData\\Local\\Temp\\ipykernel_14896\\2254758324.py:4: UserWarning: Could not infer format, so each element will be parsed individually, falling back to `dateutil`. To ensure parsing is consistent and as-expected, please specify a format.\n",
      "  df['Unnamed: 0'] = pd.to_datetime(df['Unnamed: 0'])\n"
     ]
    },
    {
     "data": {
      "text/html": [
       "<div>\n",
       "<style scoped>\n",
       "    .dataframe tbody tr th:only-of-type {\n",
       "        vertical-align: middle;\n",
       "    }\n",
       "\n",
       "    .dataframe tbody tr th {\n",
       "        vertical-align: top;\n",
       "    }\n",
       "\n",
       "    .dataframe thead th {\n",
       "        text-align: right;\n",
       "    }\n",
       "</style>\n",
       "<table border=\"1\" class=\"dataframe\">\n",
       "  <thead>\n",
       "    <tr style=\"text-align: right;\">\n",
       "      <th></th>\n",
       "      <th>날짜</th>\n",
       "      <th>육지</th>\n",
       "      <th>제주</th>\n",
       "      <th>통합</th>\n",
       "      <th>BLMP</th>\n",
       "      <th>육지-통합</th>\n",
       "    </tr>\n",
       "  </thead>\n",
       "  <tbody>\n",
       "    <tr>\n",
       "      <th>0</th>\n",
       "      <td>2024-03-01</td>\n",
       "      <td>134.40</td>\n",
       "      <td>140.61</td>\n",
       "      <td>134.47</td>\n",
       "      <td>0.0</td>\n",
       "      <td>0.07</td>\n",
       "    </tr>\n",
       "    <tr>\n",
       "      <th>1</th>\n",
       "      <td>2024-02-01</td>\n",
       "      <td>119.49</td>\n",
       "      <td>122.34</td>\n",
       "      <td>119.53</td>\n",
       "      <td>0.0</td>\n",
       "      <td>0.04</td>\n",
       "    </tr>\n",
       "    <tr>\n",
       "      <th>2</th>\n",
       "      <td>2024-01-01</td>\n",
       "      <td>137.91</td>\n",
       "      <td>150.67</td>\n",
       "      <td>138.06</td>\n",
       "      <td>0.0</td>\n",
       "      <td>0.15</td>\n",
       "    </tr>\n",
       "    <tr>\n",
       "      <th>3</th>\n",
       "      <td>2023-12-01</td>\n",
       "      <td>131.05</td>\n",
       "      <td>137.04</td>\n",
       "      <td>131.12</td>\n",
       "      <td>0.0</td>\n",
       "      <td>0.07</td>\n",
       "    </tr>\n",
       "    <tr>\n",
       "      <th>4</th>\n",
       "      <td>2023-11-01</td>\n",
       "      <td>120.82</td>\n",
       "      <td>123.37</td>\n",
       "      <td>120.85</td>\n",
       "      <td>0.0</td>\n",
       "      <td>0.03</td>\n",
       "    </tr>\n",
       "  </tbody>\n",
       "</table>\n",
       "</div>"
      ],
      "text/plain": [
       "          날짜      육지      제주      통합  BLMP  육지-통합\n",
       "0 2024-03-01  134.40  140.61  134.47   0.0   0.07\n",
       "1 2024-02-01  119.49  122.34  119.53   0.0   0.04\n",
       "2 2024-01-01  137.91  150.67  138.06   0.0   0.15\n",
       "3 2023-12-01  131.05  137.04  131.12   0.0   0.07\n",
       "4 2023-11-01  120.82  123.37  120.85   0.0   0.03"
      ]
     },
     "execution_count": 59,
     "metadata": {},
     "output_type": "execute_result"
    }
   ],
   "source": [
    "# 데이터 저장\n",
    "# - 인덱스를 컬럼으로 변환, 날짜로 변경 및 형식을 datetime으로 변경\n",
    "df.reset_index(inplace=True)\n",
    "df['Unnamed: 0'] = pd.to_datetime(df['Unnamed: 0'])\n",
    "# 이름을 날짜로 변경\n",
    "df.rename(columns={'Unnamed: 0': '날짜'}, inplace=True)\n",
    "df.head()"
   ]
  },
  {
   "cell_type": "code",
   "execution_count": 60,
   "metadata": {},
   "outputs": [
    {
     "data": {
      "text/html": [
       "<div>\n",
       "<style scoped>\n",
       "    .dataframe tbody tr th:only-of-type {\n",
       "        vertical-align: middle;\n",
       "    }\n",
       "\n",
       "    .dataframe tbody tr th {\n",
       "        vertical-align: top;\n",
       "    }\n",
       "\n",
       "    .dataframe thead th {\n",
       "        text-align: right;\n",
       "    }\n",
       "</style>\n",
       "<table border=\"1\" class=\"dataframe\">\n",
       "  <thead>\n",
       "    <tr style=\"text-align: right;\">\n",
       "      <th></th>\n",
       "      <th>통합</th>\n",
       "    </tr>\n",
       "    <tr>\n",
       "      <th>날짜</th>\n",
       "      <th></th>\n",
       "    </tr>\n",
       "  </thead>\n",
       "  <tbody>\n",
       "    <tr>\n",
       "      <th>2001-04-01</th>\n",
       "      <td>50.705398</td>\n",
       "    </tr>\n",
       "    <tr>\n",
       "      <th>2001-05-01</th>\n",
       "      <td>52.552364</td>\n",
       "    </tr>\n",
       "    <tr>\n",
       "      <th>2001-06-01</th>\n",
       "      <td>51.247385</td>\n",
       "    </tr>\n",
       "    <tr>\n",
       "      <th>2001-07-01</th>\n",
       "      <td>47.428339</td>\n",
       "    </tr>\n",
       "    <tr>\n",
       "      <th>2001-08-01</th>\n",
       "      <td>42.293200</td>\n",
       "    </tr>\n",
       "    <tr>\n",
       "      <th>2001-09-01</th>\n",
       "      <td>44.540669</td>\n",
       "    </tr>\n",
       "    <tr>\n",
       "      <th>2001-10-01</th>\n",
       "      <td>46.931304</td>\n",
       "    </tr>\n",
       "    <tr>\n",
       "      <th>2001-11-01</th>\n",
       "      <td>47.139051</td>\n",
       "    </tr>\n",
       "    <tr>\n",
       "      <th>2001-12-01</th>\n",
       "      <td>56.284392</td>\n",
       "    </tr>\n",
       "    <tr>\n",
       "      <th>2002-01-01</th>\n",
       "      <td>58.116863</td>\n",
       "    </tr>\n",
       "  </tbody>\n",
       "</table>\n",
       "</div>"
      ],
      "text/plain": [
       "                   통합\n",
       "날짜                   \n",
       "2001-04-01  50.705398\n",
       "2001-05-01  52.552364\n",
       "2001-06-01  51.247385\n",
       "2001-07-01  47.428339\n",
       "2001-08-01  42.293200\n",
       "2001-09-01  44.540669\n",
       "2001-10-01  46.931304\n",
       "2001-11-01  47.139051\n",
       "2001-12-01  56.284392\n",
       "2002-01-01  58.116863"
      ]
     },
     "execution_count": 60,
     "metadata": {},
     "output_type": "execute_result"
    }
   ],
   "source": [
    "# - 파일 저장 : 날짜와 통합 가격만 저장, 역순 정렬\n",
    "final_df = df[['날짜', '통합']].sort_values('날짜', ascending=True)\n",
    "# 날짜를 인덱스로 지정\n",
    "final_df.set_index('날짜', inplace=True)\n",
    "final_df.head(10)\n"
   ]
  },
  {
   "cell_type": "code",
   "execution_count": 61,
   "metadata": {},
   "outputs": [],
   "source": [
    "final_df.to_csv('../DATA/SMP_201004_202403.csv', encoding='utf-8-sig')"
   ]
  },
  {
   "cell_type": "code",
   "execution_count": null,
   "metadata": {},
   "outputs": [],
   "source": []
  }
 ],
 "metadata": {
  "kernelspec": {
   "display_name": "Torch_NLP",
   "language": "python",
   "name": "python3"
  },
  "language_info": {
   "codemirror_mode": {
    "name": "ipython",
    "version": 3
   },
   "file_extension": ".py",
   "mimetype": "text/x-python",
   "name": "python",
   "nbconvert_exporter": "python",
   "pygments_lexer": "ipython3",
   "version": "3.8.19"
  }
 },
 "nbformat": 4,
 "nbformat_minor": 2
}
