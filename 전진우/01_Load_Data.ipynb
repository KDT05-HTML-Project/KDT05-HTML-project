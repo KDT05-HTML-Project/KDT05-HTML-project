{
 "cells": [
  {
   "cell_type": "markdown",
   "metadata": {},
   "source": [
    "### 데이터 가져오기"
   ]
  },
  {
   "cell_type": "code",
   "execution_count": 5,
   "metadata": {},
   "outputs": [
    {
     "name": "stdout",
     "output_type": "stream",
     "text": [
      "       거래일자  시간  연료원  설비용량(MW)  전력거래량(MWh)\n",
      "0  20230101   1  원자력     24650       19561\n",
      "1  20230101   2  원자력     24650       19561\n",
      "2  20230101   3  원자력     24650       19562\n",
      "3  20230101   4  원자력     24650       19560\n",
      "4  20230101   5  원자력     24650       19559\n"
     ]
    }
   ],
   "source": [
    "file = '../DATA/2023년 연료원별 시간대별 설비용량 및 전력거래량 (1).xlsx'\n",
    "import pandas as pd\n",
    "\n",
    "df = pd.read_excel(file, sheet_name='Sheet1', skiprows=5)\n",
    "print(df.head())"
   ]
  },
  {
   "cell_type": "code",
   "execution_count": null,
   "metadata": {},
   "outputs": [],
   "source": [
    "# %pip install openpyxl"
   ]
  },
  {
   "cell_type": "code",
   "execution_count": 6,
   "metadata": {},
   "outputs": [
    {
     "name": "stdout",
     "output_type": "stream",
     "text": [
      "<class 'pandas.core.frame.DataFrame'>\n",
      "RangeIndex: 179208 entries, 0 to 179207\n",
      "Data columns (total 5 columns):\n",
      " #   Column      Non-Null Count   Dtype \n",
      "---  ------      --------------   ----- \n",
      " 0   거래일자        179208 non-null  int64 \n",
      " 1   시간          179208 non-null  int64 \n",
      " 2   연료원         179208 non-null  object\n",
      " 3   설비용량(MW)    179208 non-null  int64 \n",
      " 4   전력거래량(MWh)  179208 non-null  int64 \n",
      "dtypes: int64(4), object(1)\n",
      "memory usage: 6.8+ MB\n"
     ]
    }
   ],
   "source": [
    "df.info()"
   ]
  },
  {
   "cell_type": "code",
   "execution_count": null,
   "metadata": {},
   "outputs": [],
   "source": []
  },
  {
   "cell_type": "code",
   "execution_count": null,
   "metadata": {},
   "outputs": [],
   "source": []
  }
 ],
 "metadata": {
  "kernelspec": {
   "display_name": "Torch_NLP",
   "language": "python",
   "name": "python3"
  },
  "language_info": {
   "codemirror_mode": {
    "name": "ipython",
    "version": 3
   },
   "file_extension": ".py",
   "mimetype": "text/x-python",
   "name": "python",
   "nbconvert_exporter": "python",
   "pygments_lexer": "ipython3",
   "version": "3.8.19"
  }
 },
 "nbformat": 4,
 "nbformat_minor": 2
}
