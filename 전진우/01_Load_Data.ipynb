{
 "cells": [
  {
   "cell_type": "markdown",
   "metadata": {},
   "source": [
    "### 데이터 가져오기"
   ]
  },
  {
   "cell_type": "code",
   "execution_count": 5,
   "metadata": {},
   "outputs": [
    {
     "name": "stdout",
     "output_type": "stream",
     "text": [
      "       거래일자  시간  연료원  설비용량(MW)  전력거래량(MWh)\n",
      "0  20230101   1  원자력     24650       19561\n",
      "1  20230101   2  원자력     24650       19561\n",
      "2  20230101   3  원자력     24650       19562\n",
      "3  20230101   4  원자력     24650       19560\n",
      "4  20230101   5  원자력     24650       19559\n"
     ]
    }
   ],
   "source": [
    "file = '../DATA/2023년 연료원별 시간대별 설비용량 및 전력거래량 (1).xlsx'\n",
    "import pandas as pd\n",
    "\n",
    "df = pd.read_excel(file, sheet_name='Sheet1', skiprows=5)\n",
    "print(df.head())"
   ]
  },
  {
   "cell_type": "code",
   "execution_count": null,
   "metadata": {},
   "outputs": [],
   "source": [
    "# %pip install openpyxl"
   ]
  },
  {
   "cell_type": "code",
   "execution_count": 6,
   "metadata": {},
   "outputs": [
    {
     "name": "stdout",
     "output_type": "stream",
     "text": [
      "<class 'pandas.core.frame.DataFrame'>\n",
      "RangeIndex: 179208 entries, 0 to 179207\n",
      "Data columns (total 5 columns):\n",
      " #   Column      Non-Null Count   Dtype \n",
      "---  ------      --------------   ----- \n",
      " 0   거래일자        179208 non-null  int64 \n",
      " 1   시간          179208 non-null  int64 \n",
      " 2   연료원         179208 non-null  object\n",
      " 3   설비용량(MW)    179208 non-null  int64 \n",
      " 4   전력거래량(MWh)  179208 non-null  int64 \n",
      "dtypes: int64(4), object(1)\n",
      "memory usage: 6.8+ MB\n"
     ]
    }
   ],
   "source": [
    "df.info()"
   ]
  },
  {
   "cell_type": "markdown",
   "metadata": {},
   "source": [
    "### 거래일자 + 시간"
   ]
  },
  {
   "cell_type": "code",
   "execution_count": 8,
   "metadata": {},
   "outputs": [
    {
     "name": "stdout",
     "output_type": "stream",
     "text": [
      "       거래일자 시간  연료원  설비용량(MW)  전력거래량(MWh)        날짜시간\n",
      "0  20230101  1  원자력     24650       19561  2023010101\n",
      "1  20230101  2  원자력     24650       19561  2023010102\n",
      "2  20230101  3  원자력     24650       19562  2023010103\n",
      "3  20230101  4  원자력     24650       19560  2023010104\n",
      "4  20230101  5  원자력     24650       19559  2023010105\n"
     ]
    }
   ],
   "source": [
    "# 거래일자 열과 시간 열을 합치기 \n",
    "# - 시간 단위가 int, 합치면 202301012, 2023010112 이런 식으로 자릿수가 달라짐\n",
    "# - 시간 단위를 2자리로 맞추기 위해 zfill() 함수 사용\n",
    "df['거래일자'] = df['거래일자'].astype(str)\n",
    "df['시간'] = df['시간'].astype(str)\n",
    "df['날짜시간'] = df['거래일자'] + df['시간'].str.zfill(2)\n",
    "print(df.head())"
   ]
  },
  {
   "cell_type": "code",
   "execution_count": 11,
   "metadata": {},
   "outputs": [
    {
     "name": "stdout",
     "output_type": "stream",
     "text": [
      "                거래일자 시간  연료원  설비용량(MW)  전력거래량(MWh)\n",
      "날짜시간                                              \n",
      "2023010101  20230101  1  원자력     24650       19561\n",
      "2023010102  20230101  2  원자력     24650       19561\n",
      "2023010103  20230101  3  원자력     24650       19562\n",
      "2023010104  20230101  4  원자력     24650       19560\n",
      "2023010105  20230101  5  원자력     24650       19559\n"
     ]
    }
   ],
   "source": [
    "# 날짜 시간 열을 인덱스로 설정\n",
    "df.set_index('날짜시간', inplace=True)\n",
    "print(df.head())"
   ]
  },
  {
   "cell_type": "code",
   "execution_count": 17,
   "metadata": {},
   "outputs": [
    {
     "data": {
      "text/html": [
       "<div>\n",
       "<style scoped>\n",
       "    .dataframe tbody tr th:only-of-type {\n",
       "        vertical-align: middle;\n",
       "    }\n",
       "\n",
       "    .dataframe tbody tr th {\n",
       "        vertical-align: top;\n",
       "    }\n",
       "\n",
       "    .dataframe thead th {\n",
       "        text-align: right;\n",
       "    }\n",
       "</style>\n",
       "<table border=\"1\" class=\"dataframe\">\n",
       "  <thead>\n",
       "    <tr style=\"text-align: right;\">\n",
       "      <th></th>\n",
       "      <th>설비용량(MW)</th>\n",
       "      <th>전력거래량(MWh)</th>\n",
       "    </tr>\n",
       "    <tr>\n",
       "      <th>날짜시간</th>\n",
       "      <th></th>\n",
       "      <th></th>\n",
       "    </tr>\n",
       "  </thead>\n",
       "  <tbody>\n",
       "    <tr>\n",
       "      <th>2023010101</th>\n",
       "      <td>24650</td>\n",
       "      <td>19561</td>\n",
       "    </tr>\n",
       "    <tr>\n",
       "      <th>2023010102</th>\n",
       "      <td>24650</td>\n",
       "      <td>19561</td>\n",
       "    </tr>\n",
       "    <tr>\n",
       "      <th>2023010103</th>\n",
       "      <td>24650</td>\n",
       "      <td>19562</td>\n",
       "    </tr>\n",
       "    <tr>\n",
       "      <th>2023010104</th>\n",
       "      <td>24650</td>\n",
       "      <td>19560</td>\n",
       "    </tr>\n",
       "    <tr>\n",
       "      <th>2023010105</th>\n",
       "      <td>24650</td>\n",
       "      <td>19559</td>\n",
       "    </tr>\n",
       "  </tbody>\n",
       "</table>\n",
       "</div>"
      ],
      "text/plain": [
       "            설비용량(MW)  전력거래량(MWh)\n",
       "날짜시간                            \n",
       "2023010101     24650       19561\n",
       "2023010102     24650       19561\n",
       "2023010103     24650       19562\n",
       "2023010104     24650       19560\n",
       "2023010105     24650       19559"
      ]
     },
     "execution_count": 17,
     "metadata": {},
     "output_type": "execute_result"
    }
   ],
   "source": [
    "# 연료원별 구분, 연료원 열 제외\n",
    "nuclear_df = df[df['연료원'] == '원자력'].drop(['연료원', '거래일자', '시간'], axis=1)\n",
    "nuclear_df.head()"
   ]
  },
  {
   "cell_type": "code",
   "execution_count": 19,
   "metadata": {},
   "outputs": [
    {
     "data": {
      "text/plain": [
       "array(['원자력', '유연탄', '무연탄', '바이오가스', '부생가스', '수력', '양수', '매립가스', '중유',\n",
       "       '태양광', '폐기물', '풍력', 'LNG', '연료전지', '경유', '해양에너지', '바이오매스', 'IGCC',\n",
       "       '바이오중유', '기타', '바이오SRF'], dtype=object)"
      ]
     },
     "execution_count": 19,
     "metadata": {},
     "output_type": "execute_result"
    }
   ],
   "source": [
    "# 모든 연료원 확인\n",
    "df['연료원'].unique()"
   ]
  },
  {
   "cell_type": "markdown",
   "metadata": {},
   "source": [
    "### 자료가 가격과 거리가 멀어 새로운 자료 찾음"
   ]
  },
  {
   "cell_type": "code",
   "execution_count": 5,
   "metadata": {},
   "outputs": [
    {
     "data": {
      "text/html": [
       "<div>\n",
       "<style scoped>\n",
       "    .dataframe tbody tr th:only-of-type {\n",
       "        vertical-align: middle;\n",
       "    }\n",
       "\n",
       "    .dataframe tbody tr th {\n",
       "        vertical-align: top;\n",
       "    }\n",
       "\n",
       "    .dataframe thead th {\n",
       "        text-align: right;\n",
       "    }\n",
       "</style>\n",
       "<table border=\"1\" class=\"dataframe\">\n",
       "  <thead>\n",
       "    <tr style=\"text-align: right;\">\n",
       "      <th></th>\n",
       "      <th>Unnamed: 0</th>\n",
       "      <th>육지</th>\n",
       "      <th>제주</th>\n",
       "      <th>통합</th>\n",
       "      <th>Unnamed: 4</th>\n",
       "    </tr>\n",
       "  </thead>\n",
       "  <tbody>\n",
       "    <tr>\n",
       "      <th>0</th>\n",
       "      <td>2024/03</td>\n",
       "      <td>134.40</td>\n",
       "      <td>140.61</td>\n",
       "      <td>134.47</td>\n",
       "      <td>0.0</td>\n",
       "    </tr>\n",
       "    <tr>\n",
       "      <th>1</th>\n",
       "      <td>2024/02</td>\n",
       "      <td>119.49</td>\n",
       "      <td>122.34</td>\n",
       "      <td>119.53</td>\n",
       "      <td>0.0</td>\n",
       "    </tr>\n",
       "    <tr>\n",
       "      <th>2</th>\n",
       "      <td>2024/01</td>\n",
       "      <td>137.91</td>\n",
       "      <td>150.67</td>\n",
       "      <td>138.06</td>\n",
       "      <td>0.0</td>\n",
       "    </tr>\n",
       "    <tr>\n",
       "      <th>3</th>\n",
       "      <td>2023/12</td>\n",
       "      <td>131.05</td>\n",
       "      <td>137.04</td>\n",
       "      <td>131.12</td>\n",
       "      <td>0.0</td>\n",
       "    </tr>\n",
       "    <tr>\n",
       "      <th>4</th>\n",
       "      <td>2023/11</td>\n",
       "      <td>120.82</td>\n",
       "      <td>123.37</td>\n",
       "      <td>120.85</td>\n",
       "      <td>0.0</td>\n",
       "    </tr>\n",
       "  </tbody>\n",
       "</table>\n",
       "</div>"
      ],
      "text/plain": [
       "  Unnamed: 0      육지      제주      통합  Unnamed: 4\n",
       "0    2024/03  134.40  140.61  134.47         0.0\n",
       "1    2024/02  119.49  122.34  119.53         0.0\n",
       "2    2024/01  137.91  150.67  138.06         0.0\n",
       "3    2023/12  131.05  137.04  131.12         0.0\n",
       "4    2023/11  120.82  123.37  120.85         0.0"
      ]
     },
     "execution_count": 5,
     "metadata": {},
     "output_type": "execute_result"
    }
   ],
   "source": [
    "import pandas as pd\n",
    "\n",
    "file = '../DATA/HOME_전력거래_계통한계가격_가중평균SMP.csv'\n",
    "\n",
    "df = pd.read_csv(file, encoding='cp949', skiprows=1)\n",
    "df.head()"
   ]
  },
  {
   "cell_type": "code",
   "execution_count": 6,
   "metadata": {},
   "outputs": [
    {
     "name": "stdout",
     "output_type": "stream",
     "text": [
      "<class 'pandas.core.frame.DataFrame'>\n",
      "RangeIndex: 276 entries, 0 to 275\n",
      "Data columns (total 5 columns):\n",
      " #   Column      Non-Null Count  Dtype  \n",
      "---  ------      --------------  -----  \n",
      " 0   Unnamed: 0  276 non-null    object \n",
      " 1   육지          276 non-null    float64\n",
      " 2   제주          276 non-null    float64\n",
      " 3   통합          276 non-null    float64\n",
      " 4   Unnamed: 4  276 non-null    float64\n",
      "dtypes: float64(4), object(1)\n",
      "memory usage: 10.9+ KB\n"
     ]
    }
   ],
   "source": [
    "df.info()"
   ]
  },
  {
   "cell_type": "code",
   "execution_count": 8,
   "metadata": {},
   "outputs": [
    {
     "data": {
      "text/html": [
       "<div>\n",
       "<style scoped>\n",
       "    .dataframe tbody tr th:only-of-type {\n",
       "        vertical-align: middle;\n",
       "    }\n",
       "\n",
       "    .dataframe tbody tr th {\n",
       "        vertical-align: top;\n",
       "    }\n",
       "\n",
       "    .dataframe thead th {\n",
       "        text-align: right;\n",
       "    }\n",
       "</style>\n",
       "<table border=\"1\" class=\"dataframe\">\n",
       "  <thead>\n",
       "    <tr style=\"text-align: right;\">\n",
       "      <th></th>\n",
       "      <th>육지</th>\n",
       "      <th>제주</th>\n",
       "      <th>통합</th>\n",
       "      <th>Unnamed: 4</th>\n",
       "    </tr>\n",
       "    <tr>\n",
       "      <th>Unnamed: 0</th>\n",
       "      <th></th>\n",
       "      <th></th>\n",
       "      <th></th>\n",
       "      <th></th>\n",
       "    </tr>\n",
       "  </thead>\n",
       "  <tbody>\n",
       "    <tr>\n",
       "      <th>2024/03</th>\n",
       "      <td>134.40</td>\n",
       "      <td>140.61</td>\n",
       "      <td>134.47</td>\n",
       "      <td>0.0</td>\n",
       "    </tr>\n",
       "    <tr>\n",
       "      <th>2024/02</th>\n",
       "      <td>119.49</td>\n",
       "      <td>122.34</td>\n",
       "      <td>119.53</td>\n",
       "      <td>0.0</td>\n",
       "    </tr>\n",
       "    <tr>\n",
       "      <th>2024/01</th>\n",
       "      <td>137.91</td>\n",
       "      <td>150.67</td>\n",
       "      <td>138.06</td>\n",
       "      <td>0.0</td>\n",
       "    </tr>\n",
       "    <tr>\n",
       "      <th>2023/12</th>\n",
       "      <td>131.05</td>\n",
       "      <td>137.04</td>\n",
       "      <td>131.12</td>\n",
       "      <td>0.0</td>\n",
       "    </tr>\n",
       "    <tr>\n",
       "      <th>2023/11</th>\n",
       "      <td>120.82</td>\n",
       "      <td>123.37</td>\n",
       "      <td>120.85</td>\n",
       "      <td>0.0</td>\n",
       "    </tr>\n",
       "  </tbody>\n",
       "</table>\n",
       "</div>"
      ],
      "text/plain": [
       "                육지      제주      통합  Unnamed: 4\n",
       "Unnamed: 0                                    \n",
       "2024/03     134.40  140.61  134.47         0.0\n",
       "2024/02     119.49  122.34  119.53         0.0\n",
       "2024/01     137.91  150.67  138.06         0.0\n",
       "2023/12     131.05  137.04  131.12         0.0\n",
       "2023/11     120.82  123.37  120.85         0.0"
      ]
     },
     "execution_count": 8,
     "metadata": {},
     "output_type": "execute_result"
    }
   ],
   "source": [
    "# 첫 열을 인덱스로 설정, 육지, 제주, 통합을 시각화\n",
    "df.set_index('Unnamed: 0', inplace=True)\n",
    "df.head()"
   ]
  },
  {
   "cell_type": "code",
   "execution_count": 13,
   "metadata": {},
   "outputs": [
    {
     "data": {
      "text/html": [
       "<div>\n",
       "<style scoped>\n",
       "    .dataframe tbody tr th:only-of-type {\n",
       "        vertical-align: middle;\n",
       "    }\n",
       "\n",
       "    .dataframe tbody tr th {\n",
       "        vertical-align: top;\n",
       "    }\n",
       "\n",
       "    .dataframe thead th {\n",
       "        text-align: right;\n",
       "    }\n",
       "</style>\n",
       "<table border=\"1\" class=\"dataframe\">\n",
       "  <thead>\n",
       "    <tr style=\"text-align: right;\">\n",
       "      <th></th>\n",
       "      <th>육지</th>\n",
       "      <th>제주</th>\n",
       "      <th>통합</th>\n",
       "      <th>BLMP</th>\n",
       "    </tr>\n",
       "    <tr>\n",
       "      <th>Unnamed: 0</th>\n",
       "      <th></th>\n",
       "      <th></th>\n",
       "      <th></th>\n",
       "      <th></th>\n",
       "    </tr>\n",
       "  </thead>\n",
       "  <tbody>\n",
       "    <tr>\n",
       "      <th>2024/03</th>\n",
       "      <td>134.40</td>\n",
       "      <td>140.61</td>\n",
       "      <td>134.47</td>\n",
       "      <td>0.0</td>\n",
       "    </tr>\n",
       "    <tr>\n",
       "      <th>2024/02</th>\n",
       "      <td>119.49</td>\n",
       "      <td>122.34</td>\n",
       "      <td>119.53</td>\n",
       "      <td>0.0</td>\n",
       "    </tr>\n",
       "    <tr>\n",
       "      <th>2024/01</th>\n",
       "      <td>137.91</td>\n",
       "      <td>150.67</td>\n",
       "      <td>138.06</td>\n",
       "      <td>0.0</td>\n",
       "    </tr>\n",
       "    <tr>\n",
       "      <th>2023/12</th>\n",
       "      <td>131.05</td>\n",
       "      <td>137.04</td>\n",
       "      <td>131.12</td>\n",
       "      <td>0.0</td>\n",
       "    </tr>\n",
       "    <tr>\n",
       "      <th>2023/11</th>\n",
       "      <td>120.82</td>\n",
       "      <td>123.37</td>\n",
       "      <td>120.85</td>\n",
       "      <td>0.0</td>\n",
       "    </tr>\n",
       "  </tbody>\n",
       "</table>\n",
       "</div>"
      ],
      "text/plain": [
       "                육지      제주      통합  BLMP\n",
       "Unnamed: 0                              \n",
       "2024/03     134.40  140.61  134.47   0.0\n",
       "2024/02     119.49  122.34  119.53   0.0\n",
       "2024/01     137.91  150.67  138.06   0.0\n",
       "2023/12     131.05  137.04  131.12   0.0\n",
       "2023/11     120.82  123.37  120.85   0.0"
      ]
     },
     "execution_count": 13,
     "metadata": {},
     "output_type": "execute_result"
    }
   ],
   "source": [
    "# 넷 째 열 = BLMP\n",
    "df.columns = ['육지', '제주', '통합', 'BLMP']\n",
    "df.head()"
   ]
  },
  {
   "cell_type": "code",
   "execution_count": 14,
   "metadata": {},
   "outputs": [
    {
     "data": {
      "image/png": "[encoded data removed]",
      "text/plain": [
       "<Figure size 640x480 with 1 Axes>"
      ]
     },
     "metadata": {},
     "output_type": "display_data"
    }
   ],
   "source": [
    "# 시각화\n",
    "import matplotlib.pyplot as plt\n",
    "# 한글 폰트 설정\n",
    "plt.rc('font', family='Malgun Gothic')\n",
    "plt.rc('axes', unicode_minus=False)\n",
    "df.plot()\n",
    "plt.show()"
   ]
  },
  {
   "cell_type": "markdown",
   "metadata": {},
   "source": [
    "=> 계통가격은 육지보다 제주가 높고 2015년 감소했다 21년도부터 다시 증가, 최근 감소하는 추세이다."
   ]
  },
  {
   "cell_type": "code",
   "execution_count": null,
   "metadata": {},
   "outputs": [],
   "source": []
  },
  {
   "cell_type": "code",
   "execution_count": null,
   "metadata": {},
   "outputs": [],
   "source": []
  },
  {
   "cell_type": "code",
   "execution_count": null,
   "metadata": {},
   "outputs": [],
   "source": []
  }
 ],
 "metadata": {
  "kernelspec": {
   "display_name": "Torch_NLP",
   "language": "python",
   "name": "python3"
  },
  "language_info": {
   "codemirror_mode": {
    "name": "ipython",
    "version": 3
   },
   "file_extension": ".py",
   "mimetype": "text/x-python",
   "name": "python",
   "nbconvert_exporter": "python",
   "pygments_lexer": "ipython3",
   "version": "3.8.19"
  }
 },
 "nbformat": 4,
 "nbformat_minor": 2
}
