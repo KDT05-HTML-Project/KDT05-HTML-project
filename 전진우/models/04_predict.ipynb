{
 "cells": [
  {
   "cell_type": "markdown",
   "metadata": {},
   "source": [
    "### 4월 이후를 예측해보기"
   ]
  },
  {
   "cell_type": "code",
   "execution_count": 1,
   "metadata": {},
   "outputs": [],
   "source": [
    "# 모델 불러오기\n",
    "import torch\n",
    "import torch.nn as nn\n",
    "\n",
    "class RNN(nn.Module):\n",
    "    def __init__(self):\n",
    "        super(RNN, self).__init__()\n",
    "        self.rnn = nn.RNN(input_size=6, hidden_size=30, num_layers=2, batch_first=True)\n",
    "        self.fc = nn.Linear(30, 1)\n",
    "\n",
    "    def forward(self, x):\n",
    "        x, _status = self.rnn(x)\n",
    "        x = self.fc(x[:, -1])\n",
    "        return x"
   ]
  },
  {
   "cell_type": "code",
   "execution_count": 3,
   "metadata": {},
   "outputs": [
    {
     "data": {
      "text/plain": [
       "<All keys matched successfully>"
      ]
     },
     "execution_count": 3,
     "metadata": {},
     "output_type": "execute_result"
    }
   ],
   "source": [
    "# Load model\n",
    "model = RNN()\n",
    "model.load_state_dict(torch.load('rnn_model.pth'))"
   ]
  },
  {
   "cell_type": "code",
   "execution_count": 4,
   "metadata": {},
   "outputs": [
    {
     "data": {
      "text/html": [
       "<div>\n",
       "<style scoped>\n",
       "    .dataframe tbody tr th:only-of-type {\n",
       "        vertical-align: middle;\n",
       "    }\n",
       "\n",
       "    .dataframe tbody tr th {\n",
       "        vertical-align: top;\n",
       "    }\n",
       "\n",
       "    .dataframe thead th {\n",
       "        text-align: right;\n",
       "    }\n",
       "</style>\n",
       "<table border=\"1\" class=\"dataframe\">\n",
       "  <thead>\n",
       "    <tr style=\"text-align: right;\">\n",
       "      <th></th>\n",
       "      <th>날짜</th>\n",
       "      <th>통합</th>\n",
       "      <th>norm</th>\n",
       "      <th>denorm</th>\n",
       "    </tr>\n",
       "  </thead>\n",
       "  <tbody>\n",
       "    <tr>\n",
       "      <th>0</th>\n",
       "      <td>2001-04-01</td>\n",
       "      <td>50.705398</td>\n",
       "      <td>-1.165759</td>\n",
       "      <td>50.705398</td>\n",
       "    </tr>\n",
       "    <tr>\n",
       "      <th>1</th>\n",
       "      <td>2001-05-01</td>\n",
       "      <td>52.552364</td>\n",
       "      <td>-1.123687</td>\n",
       "      <td>52.552364</td>\n",
       "    </tr>\n",
       "    <tr>\n",
       "      <th>2</th>\n",
       "      <td>2001-06-01</td>\n",
       "      <td>51.247385</td>\n",
       "      <td>-1.153413</td>\n",
       "      <td>51.247385</td>\n",
       "    </tr>\n",
       "    <tr>\n",
       "      <th>3</th>\n",
       "      <td>2001-07-01</td>\n",
       "      <td>47.428339</td>\n",
       "      <td>-1.240408</td>\n",
       "      <td>47.428339</td>\n",
       "    </tr>\n",
       "    <tr>\n",
       "      <th>4</th>\n",
       "      <td>2001-08-01</td>\n",
       "      <td>42.293200</td>\n",
       "      <td>-1.357382</td>\n",
       "      <td>42.293200</td>\n",
       "    </tr>\n",
       "  </tbody>\n",
       "</table>\n",
       "</div>"
      ],
      "text/plain": [
       "           날짜         통합      norm     denorm\n",
       "0  2001-04-01  50.705398 -1.165759  50.705398\n",
       "1  2001-05-01  52.552364 -1.123687  52.552364\n",
       "2  2001-06-01  51.247385 -1.153413  51.247385\n",
       "3  2001-07-01  47.428339 -1.240408  47.428339\n",
       "4  2001-08-01  42.293200 -1.357382  42.293200"
      ]
     },
     "execution_count": 4,
     "metadata": {},
     "output_type": "execute_result"
    }
   ],
   "source": [
    "# 모델 사용하기\n",
    "# 1. 데이터 로드\n",
    "import pandas as pd\n",
    "import numpy as np\n",
    "\n",
    "data = pd.read_csv('../../DATA/SMP_201004_202403_norm.csv')\n",
    "data.head()"
   ]
  },
  {
   "cell_type": "code",
   "execution_count": 5,
   "metadata": {},
   "outputs": [
    {
     "data": {
      "text/html": [
       "<div>\n",
       "<style scoped>\n",
       "    .dataframe tbody tr th:only-of-type {\n",
       "        vertical-align: middle;\n",
       "    }\n",
       "\n",
       "    .dataframe tbody tr th {\n",
       "        vertical-align: top;\n",
       "    }\n",
       "\n",
       "    .dataframe thead th {\n",
       "        text-align: right;\n",
       "    }\n",
       "</style>\n",
       "<table border=\"1\" class=\"dataframe\">\n",
       "  <thead>\n",
       "    <tr style=\"text-align: right;\">\n",
       "      <th></th>\n",
       "      <th>날짜</th>\n",
       "      <th>통합</th>\n",
       "      <th>norm</th>\n",
       "      <th>denorm</th>\n",
       "    </tr>\n",
       "  </thead>\n",
       "  <tbody>\n",
       "    <tr>\n",
       "      <th>270</th>\n",
       "      <td>2023-10-01</td>\n",
       "      <td>137.01</td>\n",
       "      <td>0.800191</td>\n",
       "      <td>137.01</td>\n",
       "    </tr>\n",
       "    <tr>\n",
       "      <th>271</th>\n",
       "      <td>2023-11-01</td>\n",
       "      <td>120.85</td>\n",
       "      <td>0.432079</td>\n",
       "      <td>120.85</td>\n",
       "    </tr>\n",
       "    <tr>\n",
       "      <th>272</th>\n",
       "      <td>2023-12-01</td>\n",
       "      <td>131.12</td>\n",
       "      <td>0.666022</td>\n",
       "      <td>131.12</td>\n",
       "    </tr>\n",
       "    <tr>\n",
       "      <th>273</th>\n",
       "      <td>2024-01-01</td>\n",
       "      <td>138.06</td>\n",
       "      <td>0.824110</td>\n",
       "      <td>138.06</td>\n",
       "    </tr>\n",
       "    <tr>\n",
       "      <th>274</th>\n",
       "      <td>2024-02-01</td>\n",
       "      <td>119.53</td>\n",
       "      <td>0.402011</td>\n",
       "      <td>119.53</td>\n",
       "    </tr>\n",
       "    <tr>\n",
       "      <th>275</th>\n",
       "      <td>2024-03-01</td>\n",
       "      <td>134.47</td>\n",
       "      <td>0.742332</td>\n",
       "      <td>134.47</td>\n",
       "    </tr>\n",
       "  </tbody>\n",
       "</table>\n",
       "</div>"
      ],
      "text/plain": [
       "             날짜      통합      norm  denorm\n",
       "270  2023-10-01  137.01  0.800191  137.01\n",
       "271  2023-11-01  120.85  0.432079  120.85\n",
       "272  2023-12-01  131.12  0.666022  131.12\n",
       "273  2024-01-01  138.06  0.824110  138.06\n",
       "274  2024-02-01  119.53  0.402011  119.53\n",
       "275  2024-03-01  134.47  0.742332  134.47"
      ]
     },
     "execution_count": 5,
     "metadata": {},
     "output_type": "execute_result"
    }
   ],
   "source": [
    "# 마지막 6개월\n",
    "data_6 = data.iloc[-6:]\n",
    "data_6"
   ]
  },
  {
   "cell_type": "code",
   "execution_count": 18,
   "metadata": {},
   "outputs": [
    {
     "data": {
      "text/plain": [
       "(tensor([[0.8002, 0.4321, 0.6660, 0.8241, 0.4020, 0.7423]]),\n",
       " torch.Size([1, 6]))"
      ]
     },
     "execution_count": 18,
     "metadata": {},
     "output_type": "execute_result"
    }
   ],
   "source": [
    "# model prediction\n",
    "# norm column으로 예측\n",
    "norm = torch.tensor(data_6['norm'].values).unsqueeze(0).float()\n",
    "norm, norm.shape\n"
   ]
  },
  {
   "cell_type": "code",
   "execution_count": 20,
   "metadata": {},
   "outputs": [
    {
     "data": {
      "text/plain": [
       "tensor([[0.4533]], grad_fn=<AddmmBackward0>)"
      ]
     },
     "execution_count": 20,
     "metadata": {},
     "output_type": "execute_result"
    }
   ],
   "source": [
    "pred = model(norm.unsqueeze(0))\n",
    "pred"
   ]
  },
  {
   "cell_type": "code",
   "execution_count": 21,
   "metadata": {},
   "outputs": [],
   "source": [
    "def denorms(x):\n",
    "    return x * 43.89968 + 101.88185"
   ]
  },
  {
   "cell_type": "code",
   "execution_count": 24,
   "metadata": {},
   "outputs": [
    {
     "name": "stdout",
     "output_type": "stream",
     "text": [
      "4월 예측 가중평균 SMP : 121.78292083740234\n"
     ]
    }
   ],
   "source": [
    "print('4월 예측 가중평균 SMP :',denorms(pred).item())"
   ]
  },
  {
   "cell_type": "markdown",
   "metadata": {},
   "source": [
    "실제 데이터는?"
   ]
  },
  {
   "cell_type": "code",
   "execution_count": 25,
   "metadata": {},
   "outputs": [
    {
     "data": {
      "text/html": [
       "<div>\n",
       "<style scoped>\n",
       "    .dataframe tbody tr th:only-of-type {\n",
       "        vertical-align: middle;\n",
       "    }\n",
       "\n",
       "    .dataframe tbody tr th {\n",
       "        vertical-align: top;\n",
       "    }\n",
       "\n",
       "    .dataframe thead th {\n",
       "        text-align: right;\n",
       "    }\n",
       "</style>\n",
       "<table border=\"1\" class=\"dataframe\">\n",
       "  <thead>\n",
       "    <tr style=\"text-align: right;\">\n",
       "      <th></th>\n",
       "      <th>기간</th>\n",
       "      <th>01시</th>\n",
       "      <th>02시</th>\n",
       "      <th>03시</th>\n",
       "      <th>04시</th>\n",
       "      <th>05시</th>\n",
       "      <th>06시</th>\n",
       "      <th>07시</th>\n",
       "      <th>08시</th>\n",
       "      <th>09시</th>\n",
       "      <th>...</th>\n",
       "      <th>18시</th>\n",
       "      <th>19시</th>\n",
       "      <th>20시</th>\n",
       "      <th>21시</th>\n",
       "      <th>22시</th>\n",
       "      <th>23시</th>\n",
       "      <th>24시</th>\n",
       "      <th>최대</th>\n",
       "      <th>최소</th>\n",
       "      <th>가중평균</th>\n",
       "    </tr>\n",
       "  </thead>\n",
       "  <tbody>\n",
       "    <tr>\n",
       "      <th>0</th>\n",
       "      <td>2024/04/14</td>\n",
       "      <td>99.52</td>\n",
       "      <td>94.96</td>\n",
       "      <td>86.66</td>\n",
       "      <td>86.65</td>\n",
       "      <td>86.68</td>\n",
       "      <td>100.28</td>\n",
       "      <td>99.37</td>\n",
       "      <td>94.77</td>\n",
       "      <td>95.19</td>\n",
       "      <td>...</td>\n",
       "      <td>118.20</td>\n",
       "      <td>119.00</td>\n",
       "      <td>141.75</td>\n",
       "      <td>139.71</td>\n",
       "      <td>119.84</td>\n",
       "      <td>119.08</td>\n",
       "      <td>98.50</td>\n",
       "      <td>141.75</td>\n",
       "      <td>86.65</td>\n",
       "      <td>106.62</td>\n",
       "    </tr>\n",
       "    <tr>\n",
       "      <th>1</th>\n",
       "      <td>2024/04/13</td>\n",
       "      <td>100.36</td>\n",
       "      <td>92.86</td>\n",
       "      <td>86.90</td>\n",
       "      <td>86.90</td>\n",
       "      <td>86.90</td>\n",
       "      <td>100.94</td>\n",
       "      <td>101.13</td>\n",
       "      <td>92.86</td>\n",
       "      <td>96.25</td>\n",
       "      <td>...</td>\n",
       "      <td>97.82</td>\n",
       "      <td>98.06</td>\n",
       "      <td>98.32</td>\n",
       "      <td>98.83</td>\n",
       "      <td>99.09</td>\n",
       "      <td>99.60</td>\n",
       "      <td>111.31</td>\n",
       "      <td>111.31</td>\n",
       "      <td>86.90</td>\n",
       "      <td>96.92</td>\n",
       "    </tr>\n",
       "    <tr>\n",
       "      <th>2</th>\n",
       "      <td>2024/04/12</td>\n",
       "      <td>101.85</td>\n",
       "      <td>99.08</td>\n",
       "      <td>87.57</td>\n",
       "      <td>87.34</td>\n",
       "      <td>87.57</td>\n",
       "      <td>95.88</td>\n",
       "      <td>102.01</td>\n",
       "      <td>101.85</td>\n",
       "      <td>137.41</td>\n",
       "      <td>...</td>\n",
       "      <td>97.41</td>\n",
       "      <td>98.42</td>\n",
       "      <td>99.08</td>\n",
       "      <td>99.18</td>\n",
       "      <td>99.44</td>\n",
       "      <td>99.29</td>\n",
       "      <td>99.98</td>\n",
       "      <td>148.26</td>\n",
       "      <td>87.34</td>\n",
       "      <td>109.42</td>\n",
       "    </tr>\n",
       "    <tr>\n",
       "      <th>3</th>\n",
       "      <td>2024/04/11</td>\n",
       "      <td>102.01</td>\n",
       "      <td>96.31</td>\n",
       "      <td>86.93</td>\n",
       "      <td>85.92</td>\n",
       "      <td>86.93</td>\n",
       "      <td>96.31</td>\n",
       "      <td>102.32</td>\n",
       "      <td>113.53</td>\n",
       "      <td>158.09</td>\n",
       "      <td>...</td>\n",
       "      <td>128.39</td>\n",
       "      <td>141.14</td>\n",
       "      <td>142.30</td>\n",
       "      <td>141.05</td>\n",
       "      <td>114.74</td>\n",
       "      <td>141.61</td>\n",
       "      <td>116.33</td>\n",
       "      <td>164.20</td>\n",
       "      <td>85.92</td>\n",
       "      <td>123.75</td>\n",
       "    </tr>\n",
       "    <tr>\n",
       "      <th>4</th>\n",
       "      <td>2024/04/10</td>\n",
       "      <td>117.35</td>\n",
       "      <td>102.40</td>\n",
       "      <td>95.98</td>\n",
       "      <td>95.95</td>\n",
       "      <td>99.16</td>\n",
       "      <td>149.78</td>\n",
       "      <td>149.95</td>\n",
       "      <td>149.88</td>\n",
       "      <td>110.38</td>\n",
       "      <td>...</td>\n",
       "      <td>110.69</td>\n",
       "      <td>147.73</td>\n",
       "      <td>147.74</td>\n",
       "      <td>147.75</td>\n",
       "      <td>147.74</td>\n",
       "      <td>147.77</td>\n",
       "      <td>142.26</td>\n",
       "      <td>150.28</td>\n",
       "      <td>95.95</td>\n",
       "      <td>129.34</td>\n",
       "    </tr>\n",
       "  </tbody>\n",
       "</table>\n",
       "<p>5 rows × 28 columns</p>\n",
       "</div>"
      ],
      "text/plain": [
       "           기간     01시     02시    03시    04시    05시     06시     07시     08시  \\\n",
       "0  2024/04/14   99.52   94.96  86.66  86.65  86.68  100.28   99.37   94.77   \n",
       "1  2024/04/13  100.36   92.86  86.90  86.90  86.90  100.94  101.13   92.86   \n",
       "2  2024/04/12  101.85   99.08  87.57  87.34  87.57   95.88  102.01  101.85   \n",
       "3  2024/04/11  102.01   96.31  86.93  85.92  86.93   96.31  102.32  113.53   \n",
       "4  2024/04/10  117.35  102.40  95.98  95.95  99.16  149.78  149.95  149.88   \n",
       "\n",
       "      09시  ...     18시     19시     20시     21시     22시     23시     24시  \\\n",
       "0   95.19  ...  118.20  119.00  141.75  139.71  119.84  119.08   98.50   \n",
       "1   96.25  ...   97.82   98.06   98.32   98.83   99.09   99.60  111.31   \n",
       "2  137.41  ...   97.41   98.42   99.08   99.18   99.44   99.29   99.98   \n",
       "3  158.09  ...  128.39  141.14  142.30  141.05  114.74  141.61  116.33   \n",
       "4  110.38  ...  110.69  147.73  147.74  147.75  147.74  147.77  142.26   \n",
       "\n",
       "       최대     최소    가중평균  \n",
       "0  141.75  86.65  106.62  \n",
       "1  111.31  86.90   96.92  \n",
       "2  148.26  87.34  109.42  \n",
       "3  164.20  85.92  123.75  \n",
       "4  150.28  95.95  129.34  \n",
       "\n",
       "[5 rows x 28 columns]"
      ]
     },
     "execution_count": 25,
     "metadata": {},
     "output_type": "execute_result"
    }
   ],
   "source": [
    "# Load data\n",
    "data_april = pd.read_csv('../../DATA/HOME_전력거래_계통한계가격_시간별SMP_4월_일별.csv', encoding='cp949')\n",
    "data_april.head()"
   ]
  },
  {
   "cell_type": "code",
   "execution_count": 27,
   "metadata": {},
   "outputs": [
    {
     "data": {
      "text/plain": [
       "121.20928571428574"
      ]
     },
     "execution_count": 27,
     "metadata": {},
     "output_type": "execute_result"
    }
   ],
   "source": [
    "# 가중평균 구하기\n",
    "means = data_april['가중평균'].mean()\n",
    "means"
   ]
  },
  {
   "cell_type": "code",
   "execution_count": null,
   "metadata": {},
   "outputs": [],
   "source": []
  },
  {
   "cell_type": "code",
   "execution_count": null,
   "metadata": {},
   "outputs": [],
   "source": []
  }
 ],
 "metadata": {
  "kernelspec": {
   "display_name": "Torch_NLP38",
   "language": "python",
   "name": "python3"
  },
  "language_info": {
   "codemirror_mode": {
    "name": "ipython",
    "version": 3
   },
   "file_extension": ".py",
   "mimetype": "text/x-python",
   "name": "python",
   "nbconvert_exporter": "python",
   "pygments_lexer": "ipython3",
   "version": "3.8.19"
  }
 },
 "nbformat": 4,
 "nbformat_minor": 2
}
