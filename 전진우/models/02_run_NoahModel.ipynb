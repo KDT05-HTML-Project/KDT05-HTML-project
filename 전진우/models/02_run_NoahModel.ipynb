{
 "cells": [
  {
   "cell_type": "markdown",
   "metadata": {},
   "source": [
    "### 정리한 데이터로 노아 모델 돌려보기"
   ]
  },
  {
   "cell_type": "markdown",
   "metadata": {},
   "source": [
    "1. 데이터 로드"
   ]
  },
  {
   "cell_type": "code",
   "execution_count": 1,
   "metadata": {},
   "outputs": [
    {
     "data": {
      "text/html": [
       "<div>\n",
       "<style scoped>\n",
       "    .dataframe tbody tr th:only-of-type {\n",
       "        vertical-align: middle;\n",
       "    }\n",
       "\n",
       "    .dataframe tbody tr th {\n",
       "        vertical-align: top;\n",
       "    }\n",
       "\n",
       "    .dataframe thead th {\n",
       "        text-align: right;\n",
       "    }\n",
       "</style>\n",
       "<table border=\"1\" class=\"dataframe\">\n",
       "  <thead>\n",
       "    <tr style=\"text-align: right;\">\n",
       "      <th></th>\n",
       "      <th>날짜</th>\n",
       "      <th>통합</th>\n",
       "    </tr>\n",
       "  </thead>\n",
       "  <tbody>\n",
       "    <tr>\n",
       "      <th>0</th>\n",
       "      <td>2001-04-01</td>\n",
       "      <td>50.705398</td>\n",
       "    </tr>\n",
       "    <tr>\n",
       "      <th>1</th>\n",
       "      <td>2001-05-01</td>\n",
       "      <td>52.552364</td>\n",
       "    </tr>\n",
       "    <tr>\n",
       "      <th>2</th>\n",
       "      <td>2001-06-01</td>\n",
       "      <td>51.247385</td>\n",
       "    </tr>\n",
       "    <tr>\n",
       "      <th>3</th>\n",
       "      <td>2001-07-01</td>\n",
       "      <td>47.428339</td>\n",
       "    </tr>\n",
       "    <tr>\n",
       "      <th>4</th>\n",
       "      <td>2001-08-01</td>\n",
       "      <td>42.293200</td>\n",
       "    </tr>\n",
       "  </tbody>\n",
       "</table>\n",
       "</div>"
      ],
      "text/plain": [
       "           날짜         통합\n",
       "0  2001-04-01  50.705398\n",
       "1  2001-05-01  52.552364\n",
       "2  2001-06-01  51.247385\n",
       "3  2001-07-01  47.428339\n",
       "4  2001-08-01  42.293200"
      ]
     },
     "execution_count": 1,
     "metadata": {},
     "output_type": "execute_result"
    }
   ],
   "source": [
    "import pandas as pd\n",
    "\n",
    "file = '../../DATA/SMP_201004_202403.csv'\n",
    "df = pd.read_csv(file, encoding='utf-8')\n",
    "df.head()"
   ]
  },
  {
   "cell_type": "code",
   "execution_count": 2,
   "metadata": {},
   "outputs": [
    {
     "name": "stdout",
     "output_type": "stream",
     "text": [
      "<class 'pandas.core.frame.DataFrame'>\n",
      "RangeIndex: 276 entries, 0 to 275\n",
      "Data columns (total 2 columns):\n",
      " #   Column  Non-Null Count  Dtype  \n",
      "---  ------  --------------  -----  \n",
      " 0   날짜      276 non-null    object \n",
      " 1   통합      276 non-null    float64\n",
      "dtypes: float64(1), object(1)\n",
      "memory usage: 4.4+ KB\n"
     ]
    }
   ],
   "source": [
    "df.info()"
   ]
  },
  {
   "cell_type": "code",
   "execution_count": 3,
   "metadata": {},
   "outputs": [
    {
     "name": "stdout",
     "output_type": "stream",
     "text": [
      "<class 'pandas.core.frame.DataFrame'>\n",
      "RangeIndex: 276 entries, 0 to 275\n",
      "Data columns (total 2 columns):\n",
      " #   Column  Non-Null Count  Dtype         \n",
      "---  ------  --------------  -----         \n",
      " 0   날짜      276 non-null    datetime64[ns]\n",
      " 1   통합      276 non-null    float64       \n",
      "dtypes: datetime64[ns](1), float64(1)\n",
      "memory usage: 4.4 KB\n"
     ]
    },
    {
     "data": {
      "text/html": [
       "<div>\n",
       "<style scoped>\n",
       "    .dataframe tbody tr th:only-of-type {\n",
       "        vertical-align: middle;\n",
       "    }\n",
       "\n",
       "    .dataframe tbody tr th {\n",
       "        vertical-align: top;\n",
       "    }\n",
       "\n",
       "    .dataframe thead th {\n",
       "        text-align: right;\n",
       "    }\n",
       "</style>\n",
       "<table border=\"1\" class=\"dataframe\">\n",
       "  <thead>\n",
       "    <tr style=\"text-align: right;\">\n",
       "      <th></th>\n",
       "      <th>날짜</th>\n",
       "      <th>통합</th>\n",
       "      <th>norm</th>\n",
       "      <th>denorm</th>\n",
       "    </tr>\n",
       "  </thead>\n",
       "  <tbody>\n",
       "    <tr>\n",
       "      <th>0</th>\n",
       "      <td>2001-04-01</td>\n",
       "      <td>50.705398</td>\n",
       "      <td>-1.165759</td>\n",
       "      <td>50.705398</td>\n",
       "    </tr>\n",
       "    <tr>\n",
       "      <th>1</th>\n",
       "      <td>2001-05-01</td>\n",
       "      <td>52.552364</td>\n",
       "      <td>-1.123687</td>\n",
       "      <td>52.552364</td>\n",
       "    </tr>\n",
       "    <tr>\n",
       "      <th>2</th>\n",
       "      <td>2001-06-01</td>\n",
       "      <td>51.247385</td>\n",
       "      <td>-1.153413</td>\n",
       "      <td>51.247385</td>\n",
       "    </tr>\n",
       "    <tr>\n",
       "      <th>3</th>\n",
       "      <td>2001-07-01</td>\n",
       "      <td>47.428339</td>\n",
       "      <td>-1.240408</td>\n",
       "      <td>47.428339</td>\n",
       "    </tr>\n",
       "    <tr>\n",
       "      <th>4</th>\n",
       "      <td>2001-08-01</td>\n",
       "      <td>42.293200</td>\n",
       "      <td>-1.357382</td>\n",
       "      <td>42.293200</td>\n",
       "    </tr>\n",
       "  </tbody>\n",
       "</table>\n",
       "</div>"
      ],
      "text/plain": [
       "          날짜         통합      norm     denorm\n",
       "0 2001-04-01  50.705398 -1.165759  50.705398\n",
       "1 2001-05-01  52.552364 -1.123687  52.552364\n",
       "2 2001-06-01  51.247385 -1.153413  51.247385\n",
       "3 2001-07-01  47.428339 -1.240408  47.428339\n",
       "4 2001-08-01  42.293200 -1.357382  42.293200"
      ]
     },
     "execution_count": 3,
     "metadata": {},
     "output_type": "execute_result"
    }
   ],
   "source": [
    "# 날짜 데이터를 datetime 형식으로 변환\n",
    "df['날짜'] = pd.to_datetime(df['날짜'])\n",
    "df.info()\n",
    "\n",
    "# 통합 열 정규화\n",
    "def normalize(x):\n",
    "    return (x - x.mean()) / x.std()\n",
    "\n",
    "def denormalize(x, mean, std):\n",
    "    return x * std + mean\n",
    "\n",
    "df['norm'] = normalize(df['통합'])\n",
    "df['denorm'] = denormalize(df['norm'], df['통합'].mean(), df['통합'].std())\n",
    "df.head()"
   ]
  },
  {
   "cell_type": "markdown",
   "metadata": {},
   "source": [
    "normalize, denormalize 함수 잘 돌아간다"
   ]
  },
  {
   "cell_type": "markdown",
   "metadata": {},
   "source": [
    "2. 이제 std 열을 모델 학습"
   ]
  },
  {
   "cell_type": "code",
   "execution_count": 4,
   "metadata": {},
   "outputs": [
    {
     "name": "stdout",
     "output_type": "stream",
     "text": [
      "264\n",
      "(tensor([-1.1658, -1.1237, -1.1534, -1.2404, -1.3574, -1.3062, -1.2517, -1.2470,\n",
      "        -1.0387, -0.9969, -1.1334, -1.1704]), tensor(-1.2558))\n"
     ]
    }
   ],
   "source": [
    "import torch\n",
    "\n",
    "# dataset 생성\n",
    "class SMPDataset:\n",
    "    def __init__(self, df, seq_len=12):\n",
    "        data = df['norm'].values\n",
    "        self.data = torch.FloatTensor(data)\n",
    "        self.seq_len = seq_len\n",
    "\n",
    "    def __len__(self):\n",
    "        return len(self.data) - self.seq_len\n",
    "\n",
    "    def __getitem__(self, idx):\n",
    "        X = self.data[idx:idx+self.seq_len]\n",
    "        y = self.data[idx+self.seq_len]\n",
    "        return X, y\n",
    "\n",
    "# Check\n",
    "smp_data = SMPDataset(df)\n",
    "print(len(smp_data))\n",
    "for i in range(5):\n",
    "    print(smp_data[i])\n",
    "    break"
   ]
  },
  {
   "cell_type": "code",
   "execution_count": 5,
   "metadata": {},
   "outputs": [
    {
     "name": "stdout",
     "output_type": "stream",
     "text": [
      "tensor([[-1.1658, -1.1237, -1.1534, -1.2404, -1.3574, -1.3062, -1.2517, -1.2470,\n",
      "         -1.0387, -0.9969, -1.1334, -1.1704],\n",
      "        [-1.1237, -1.1534, -1.2404, -1.3574, -1.3062, -1.2517, -1.2470, -1.0387,\n",
      "         -0.9969, -1.1334, -1.1704, -1.2558],\n",
      "        [-1.1534, -1.2404, -1.3574, -1.3062, -1.2517, -1.2470, -1.0387, -0.9969,\n",
      "         -1.1334, -1.1704, -1.2558, -1.2220],\n",
      "        [-1.2404, -1.3574, -1.3062, -1.2517, -1.2470, -1.0387, -0.9969, -1.1334,\n",
      "         -1.1704, -1.2558, -1.2220, -1.4278],\n",
      "        [-1.3574, -1.3062, -1.2517, -1.2470, -1.0387, -0.9969, -1.1334, -1.1704,\n",
      "         -1.2558, -1.2220, -1.4278, -1.4082],\n",
      "        [-1.3062, -1.2517, -1.2470, -1.0387, -0.9969, -1.1334, -1.1704, -1.2558,\n",
      "         -1.2220, -1.4278, -1.4082, -1.4989],\n",
      "        [-1.2517, -1.2470, -1.0387, -0.9969, -1.1334, -1.1704, -1.2558, -1.2220,\n",
      "         -1.4278, -1.4082, -1.4989, -1.3924],\n",
      "        [-1.2470, -1.0387, -0.9969, -1.1334, -1.1704, -1.2558, -1.2220, -1.4278,\n",
      "         -1.4082, -1.4989, -1.3924, -1.2658]])\n",
      "tensor([-1.2558, -1.2220, -1.4278, -1.4082, -1.4989, -1.3924, -1.2658, -1.0919])\n"
     ]
    }
   ],
   "source": [
    "# DataLoader 생성\n",
    "from torch.utils.data import DataLoader\n",
    "\n",
    "smp_loader = DataLoader(smp_data, batch_size=8, shuffle=False)\n",
    "for X, y in smp_loader:\n",
    "    print(X)\n",
    "    print(y)\n",
    "    break"
   ]
  },
  {
   "cell_type": "markdown",
   "metadata": {},
   "source": [
    "데이터로더도 순서대로 잘 나오는 걸 확인\n",
    "\n",
    "3. 모델 학습"
   ]
  },
  {
   "cell_type": "code",
   "execution_count": 6,
   "metadata": {},
   "outputs": [
    {
     "name": "stdout",
     "output_type": "stream",
     "text": [
      "Epoch 0: Loss: 0.10526145994663239, R-squared: -1.894234989837042\n",
      "Epoch 1000: Loss: 0.01657789759337902, R-squared: 0.6769675508822709\n",
      "Epoch 2000: Loss: 0.005285430233925581, R-squared: 0.9164240711651997\n",
      "Epoch 3000: Loss: 0.003487494308501482, R-squared: 0.9392556295290679\n",
      "Epoch 4000: Loss: 0.003656781977042556, R-squared: 0.9324326518946167\n",
      "Epoch 5000: Loss: 0.0010331152006983757, R-squared: 0.9799151558306072\n",
      "Epoch 6000: Loss: 0.001092730090022087, R-squared: 0.9778705960490869\n",
      "Epoch 7000: Loss: 0.0005202708416618407, R-squared: 0.9904133291363871\n",
      "Epoch 8000: Loss: 0.0014594937674701214, R-squared: 0.9768426614074148\n",
      "Epoch 9000: Loss: 7.635726069565862e-05, R-squared: 0.9985444802936521\n",
      "Epoch 10000: Loss: 0.00032284107874147594, R-squared: 0.9924786695093757\n",
      "Epoch 11000: Loss: 0.001871407381258905, R-squared: 0.9741340960225611\n",
      "Epoch 12000: Loss: 0.0009127602097578347, R-squared: 0.9829513961929747\n",
      "Epoch 13000: Loss: 0.0028625924605876207, R-squared: 0.9662136755398583\n",
      "Epoch 14000: Loss: 0.00030637456802651286, R-squared: 0.9948358207732252\n",
      "Epoch 15000: Loss: 0.002271684817969799, R-squared: 0.9735263937762713\n",
      "Epoch 16000: Loss: 0.0009061326854862273, R-squared: 0.9859144608316531\n",
      "Epoch 17000: Loss: 0.00046331112389452755, R-squared: 0.992860444111741\n",
      "Epoch 18000: Loss: 0.00038432079600170255, R-squared: 0.9928750633976064\n",
      "Epoch 19000: Loss: 0.0006523651536554098, R-squared: 0.988293970540545\n"
     ]
    }
   ],
   "source": [
    "import torch\n",
    "import torch.nn as nn\n",
    "from sklearn.metrics import r2_score\n",
    "\n",
    "class RNN(nn.Module):\n",
    "    def __init__(self):\n",
    "        super(RNN, self).__init__()\n",
    "        self.rnn = nn.RNN(input_size=12, hidden_size=30, num_layers=2, batch_first=True)\n",
    "        self.fc = nn.Linear(30, 1)\n",
    "\n",
    "    def forward(self, x):\n",
    "        x, _status = self.rnn(x)\n",
    "        x = self.fc(x[:, -1])\n",
    "        return x\n",
    "\n",
    "model = RNN()\n",
    "criterion = nn.MSELoss()\n",
    "optimizer = torch.optim.AdamW(model.parameters(), lr=0.001)\n",
    "\n",
    "def compute_r2_score(y_true, y_pred):\n",
    "    return r2_score(y_true.detach().cpu().numpy(), y_pred.detach().cpu().numpy())\n",
    "\n",
    "for epoch in range(20000):\n",
    "    for i, (x, y) in enumerate(smp_loader):\n",
    "        optimizer.zero_grad()\n",
    "        output = model(x.unsqueeze(1).float())\n",
    "        loss = criterion(output.squeeze(), y.float())\n",
    "        loss.backward()\n",
    "        optimizer.step()\n",
    "\n",
    "    if epoch % 1000 == 0:\n",
    "        y_true = y.float().unsqueeze(1)  \n",
    "        y_pred = model(x.unsqueeze(1).float())  \n",
    "        r2 = compute_r2_score(y_true, y_pred.squeeze())\n",
    "\n",
    "        print(f\"Epoch {epoch}: Loss: {loss}, R-squared: {r2}\")"
   ]
  },
  {
   "cell_type": "code",
   "execution_count": 8,
   "metadata": {},
   "outputs": [],
   "source": [
    "# 모델 저장\n",
    "torch.save(model.state_dict(), 'noo_model_12m.pth')"
   ]
  },
  {
   "cell_type": "code",
   "execution_count": null,
   "metadata": {},
   "outputs": [],
   "source": []
  },
  {
   "cell_type": "code",
   "execution_count": null,
   "metadata": {},
   "outputs": [],
   "source": []
  },
  {
   "cell_type": "code",
   "execution_count": null,
   "metadata": {},
   "outputs": [],
   "source": []
  }
 ],
 "metadata": {
  "kernelspec": {
   "display_name": "Torch_NLP",
   "language": "python",
   "name": "python3"
  },
  "language_info": {
   "codemirror_mode": {
    "name": "ipython",
    "version": 3
   },
   "file_extension": ".py",
   "mimetype": "text/x-python",
   "name": "python",
   "nbconvert_exporter": "python",
   "pygments_lexer": "ipython3",
   "version": "3.8.19"
  }
 },
 "nbformat": 4,
 "nbformat_minor": 2
}
